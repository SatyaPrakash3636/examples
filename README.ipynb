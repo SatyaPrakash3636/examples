{
 "cells": [
  {
   "cell_type": "code",
   "execution_count": 12,
   "metadata": {},
   "outputs": [
    {
     "name": "stdout",
     "output_type": "stream",
     "text": [
      "computer='r', user='s'\n",
      "You Lost\n"
     ]
    }
   ],
   "source": [
    "import random\n",
    "\n",
    "def who_wins(user: str, computer: str) -> bool|None:\n",
    "    \"\"\"\n",
    "    Returns True if user wins\n",
    "    \"\"\"\n",
    "    # r>s, s>p, p>r\n",
    "    if user == \"r\" and computer == \"s\" or user == \"s\" and computer == \"p\" or user == \"p\" and computer == \"r\":\n",
    "        return True\n",
    "\n",
    "def rps():\n",
    "    computer = random.choice([\"r\", \"p\", \"s\"])\n",
    "    user = input(\"Enter your choice- Rock(R), Paper(P), Sessior(S): \").lower()\n",
    "    user_wins = who_wins(user, computer)\n",
    "    print(f\"{computer=}, {user=}\")\n",
    "    if computer == user:\n",
    "        print(\"Tie\")\n",
    "    elif user_wins is True:\n",
    "        print(\"Yay!!, You won\")\n",
    "    else:\n",
    "        print(\"You Lost\")\n",
    "\n",
    "rps()\n"
   ]
  }
 ],
 "metadata": {
  "interpreter": {
   "hash": "d9825e61b2956a8706dae4233267cfbfcfe1f525a32f7352a175a7ed27ce220c"
  },
  "kernelspec": {
   "display_name": "Python 3.10.2 64-bit",
   "language": "python",
   "name": "python3"
  },
  "language_info": {
   "codemirror_mode": {
    "name": "ipython",
    "version": 3
   },
   "file_extension": ".py",
   "mimetype": "text/x-python",
   "name": "python",
   "nbconvert_exporter": "python",
   "pygments_lexer": "ipython3",
   "version": "3.10.2"
  },
  "orig_nbformat": 4
 },
 "nbformat": 4,
 "nbformat_minor": 2
}
